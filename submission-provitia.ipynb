{
 "cells": [
  {
   "cell_type": "code",
   "execution_count": 14,
   "metadata": {},
   "outputs": [
    {
     "name": "stdout",
     "output_type": "stream",
     "text": [
      "Requirement already satisfied: torchshow in d:\\anaconda3\\lib\\site-packages (0.5.2)\n",
      "Requirement already satisfied: numpy in d:\\anaconda3\\lib\\site-packages (from torchshow) (1.26.4)\n",
      "Requirement already satisfied: matplotlib in d:\\anaconda3\\lib\\site-packages (from torchshow) (3.9.2)\n",
      "Requirement already satisfied: contourpy>=1.0.1 in d:\\anaconda3\\lib\\site-packages (from matplotlib->torchshow) (1.2.0)\n",
      "Requirement already satisfied: cycler>=0.10 in d:\\anaconda3\\lib\\site-packages (from matplotlib->torchshow) (0.11.0)\n",
      "Requirement already satisfied: fonttools>=4.22.0 in d:\\anaconda3\\lib\\site-packages (from matplotlib->torchshow) (4.51.0)\n",
      "Requirement already satisfied: kiwisolver>=1.3.1 in d:\\anaconda3\\lib\\site-packages (from matplotlib->torchshow) (1.4.4)\n",
      "Requirement already satisfied: packaging>=20.0 in d:\\anaconda3\\lib\\site-packages (from matplotlib->torchshow) (24.1)\n",
      "Requirement already satisfied: pillow>=8 in d:\\anaconda3\\lib\\site-packages (from matplotlib->torchshow) (10.0.0)\n",
      "Requirement already satisfied: pyparsing>=2.3.1 in d:\\anaconda3\\lib\\site-packages (from matplotlib->torchshow) (3.1.2)\n",
      "Requirement already satisfied: python-dateutil>=2.7 in d:\\anaconda3\\lib\\site-packages (from matplotlib->torchshow) (2.9.0.post0)\n",
      "Requirement already satisfied: six>=1.5 in d:\\anaconda3\\lib\\site-packages (from python-dateutil>=2.7->matplotlib->torchshow) (1.16.0)\n",
      "Note: you may need to restart the kernel to use updated packages.\n"
     ]
    }
   ],
   "source": [
    "%pip install torchshow"
   ]
  },
  {
   "cell_type": "code",
   "execution_count": 58,
   "metadata": {},
   "outputs": [
    {
     "data": {
      "text/plain": [
       "torch.Size([3, 50, 88])"
      ]
     },
     "execution_count": 58,
     "metadata": {},
     "output_type": "execute_result"
    },
    {
     "data": {
      "image/png": "[encoded data removed]",
      "text/plain": [
       "<Figure size 640x480 with 1 Axes>"
      ]
     },
     "metadata": {},
     "output_type": "display_data"
    }
   ],
   "source": [
    "import torch\n",
    "import pandas as pd\n",
    "import numpy as np\n",
    "import os\n",
    "from PIL import Image\n",
    "from torchvision import transforms\n",
    "from torch.utils.data import DataLoader, Dataset\n",
    "import torchshow as ts\n",
    "\n",
    "# класс для поддержки датасетов, где ответы (labels) хранятся в файле csv а не в названиях папок\n",
    "class CustomDataset(Dataset):\n",
    "    def __init__(self, image_dir, answers_file=None, transform=None, mode=\"train\"):\n",
    "        self.image_dir = image_dir\n",
    "        self.mode = mode\n",
    "        if self.mode == \"train\":\n",
    "            self.answers_df = pd.read_csv(answers_file)\n",
    "        self.transform = transform\n",
    "    \n",
    "    def __len__(self):\n",
    "        return len(os.listdir(self.image_dir))\n",
    "    \n",
    "    def __getitem__(self, index):\n",
    "        filename = str(self.answers_df.iloc[index, 0]) + \".jpg\" if self.mode == \"train\" else list(os.walk(self.image_dir))[0][2][index]\n",
    "        img_name = os.path.join(self.image_dir, filename)\n",
    "        image = Image.open(img_name)\n",
    "        \n",
    "        if self.transform:\n",
    "            image = self.transform(image)\n",
    "        if self.mode == \"train\":\n",
    "            label = self.answers_df.iloc[index, 1]\n",
    "            return image, label\n",
    "        filename_index = int(filename.split(\".\")[0])\n",
    "        return image, filename_index\n",
    "\n",
    "downscale_mult = .85 # 15% обрезки по краям\n",
    "transform = transforms.Compose([\n",
    "    transforms.CenterCrop([int(720 * downscale_mult), int(1280 * downscale_mult)]),\n",
    "    transforms.Resize(50),\n",
    "    transforms.RandomHorizontalFlip(p=0.5),\n",
    "    transforms.RandomRotation(15),\n",
    "    transforms.ToTensor(),\n",
    "    #transforms.Normalize([0.25], [0.25]),\n",
    "])\n",
    "\n",
    "basefolder = \"\" # локально поставьте пустую строку\n",
    "\n",
    "dataset_train = CustomDataset(f\"{basefolder}human_poses_data/img_train\", f'{basefolder}human_poses_data/train_answers.csv', transform=transform)\n",
    "image_shape = dataset_train[0][0].shape\n",
    "ts.show(dataset_train[145][0])\n",
    "image_shape"
   ]
  },
  {
   "cell_type": "code",
   "execution_count": 16,
   "metadata": {},
   "outputs": [
    {
     "data": {
      "text/plain": [
       "device(type='cuda')"
      ]
     },
     "execution_count": 16,
     "metadata": {},
     "output_type": "execute_result"
    }
   ],
   "source": [
    "device = torch.device(\"cuda\" if torch.cuda.is_available() else \"cpu\")\n",
    "device"
   ]
  },
  {
   "cell_type": "code",
   "execution_count": 17,
   "metadata": {},
   "outputs": [
    {
     "data": {
      "text/plain": [
       "==========================================================================================\n",
       "Layer (type:depth-idx)                   Output Shape              Param #\n",
       "==========================================================================================\n",
       "Sequential                               [1, 20]                   --\n",
       "├─BasicBlockWithSkip: 1-1                [1, 16, 50, 88]           --\n",
       "│    └─Sequential: 2-1                   [1, 16, 50, 88]           --\n",
       "│    │    └─Conv2d: 3-1                  [1, 16, 50, 88]           432\n",
       "│    │    └─BatchNorm2d: 3-2             [1, 16, 50, 88]           32\n",
       "│    │    └─ReLU: 3-3                    [1, 16, 50, 88]           --\n",
       "│    │    └─Conv2d: 3-4                  [1, 16, 50, 88]           2,304\n",
       "│    │    └─BatchNorm2d: 3-5             [1, 16, 50, 88]           32\n",
       "│    └─Sequential: 2-2                   [1, 16, 50, 88]           --\n",
       "│    │    └─Conv2d: 3-6                  [1, 16, 50, 88]           48\n",
       "│    │    └─BatchNorm2d: 3-7             [1, 16, 50, 88]           32\n",
       "├─MaxPool2d: 1-2                         [1, 16, 25, 44]           --\n",
       "├─BasicBlockWithSkip: 1-3                [1, 64, 25, 44]           --\n",
       "│    └─Sequential: 2-3                   [1, 64, 25, 44]           --\n",
       "│    │    └─Conv2d: 3-8                  [1, 64, 25, 44]           9,216\n",
       "│    │    └─BatchNorm2d: 3-9             [1, 64, 25, 44]           128\n",
       "│    │    └─ReLU: 3-10                   [1, 64, 25, 44]           --\n",
       "│    │    └─Conv2d: 3-11                 [1, 64, 25, 44]           36,864\n",
       "│    │    └─BatchNorm2d: 3-12            [1, 64, 25, 44]           128\n",
       "│    └─Sequential: 2-4                   [1, 64, 25, 44]           --\n",
       "│    │    └─Conv2d: 3-13                 [1, 64, 25, 44]           1,024\n",
       "│    │    └─BatchNorm2d: 3-14            [1, 64, 25, 44]           128\n",
       "├─MaxPool2d: 1-4                         [1, 64, 12, 22]           --\n",
       "├─BasicBlockWithSkip: 1-5                [1, 128, 12, 22]          --\n",
       "│    └─Sequential: 2-5                   [1, 128, 12, 22]          --\n",
       "│    │    └─Conv2d: 3-15                 [1, 128, 12, 22]          73,728\n",
       "│    │    └─BatchNorm2d: 3-16            [1, 128, 12, 22]          256\n",
       "│    │    └─ReLU: 3-17                   [1, 128, 12, 22]          --\n",
       "│    │    └─Conv2d: 3-18                 [1, 128, 12, 22]          147,456\n",
       "│    │    └─BatchNorm2d: 3-19            [1, 128, 12, 22]          256\n",
       "│    └─Sequential: 2-6                   [1, 128, 12, 22]          --\n",
       "│    │    └─Conv2d: 3-20                 [1, 128, 12, 22]          8,192\n",
       "│    │    └─BatchNorm2d: 3-21            [1, 128, 12, 22]          256\n",
       "├─MaxPool2d: 1-6                         [1, 128, 6, 11]           --\n",
       "├─Flatten: 1-7                           [1, 8448]                 --\n",
       "├─Linear: 1-8                            [1, 500]                  4,224,500\n",
       "├─ReLU: 1-9                              [1, 500]                  --\n",
       "├─Dropout: 1-10                          [1, 500]                  --\n",
       "├─Linear: 1-11                           [1, 20]                   10,020\n",
       "==========================================================================================\n",
       "Total params: 4,515,032\n",
       "Trainable params: 4,515,032\n",
       "Non-trainable params: 0\n",
       "Total mult-adds (Units.MEGABYTES): 128.86\n",
       "==========================================================================================\n",
       "Input size (MB): 0.05\n",
       "Forward/backward pass size (MB): 8.38\n",
       "Params size (MB): 18.06\n",
       "Estimated Total Size (MB): 26.50\n",
       "=========================================================================================="
      ]
     },
     "execution_count": 17,
     "metadata": {},
     "output_type": "execute_result"
    }
   ],
   "source": [
    "from torch import nn\n",
    "from torchinfo import summary\n",
    "\n",
    "\n",
    "\n",
    "# чтобы сделать модель со skip-connection, нужно добавить класс блока с ним\n",
    "class BasicBlockWithSkip(nn.Module):\n",
    "  def __init__(self, in_channels, out_channels):\n",
    "    super(BasicBlockWithSkip, self).__init__()\n",
    "\n",
    "    self.block = nn.Sequential(\n",
    "        # bias=False, т.к. есть батч нормы\n",
    "        nn.Conv2d(in_channels, out_channels, kernel_size=3, padding=1, bias=False),\n",
    "        nn.BatchNorm2d(out_channels),\n",
    "        nn.ReLU(),\n",
    "        nn.Conv2d(out_channels, out_channels, kernel_size=3, padding=1, bias=False),\n",
    "        nn.BatchNorm2d(out_channels)\n",
    "    )\n",
    "\n",
    "    self.shortcut = nn.Sequential(\n",
    "        # bias=False, т.к. есть батч нормы\n",
    "        nn.Conv2d(in_channels, out_channels, kernel_size=1, bias=False),\n",
    "        nn.BatchNorm2d(out_channels)\n",
    "    )\n",
    "\n",
    "  def forward(self, x):\n",
    "    return nn.ReLU()(self.block(x) + self.shortcut(x))\n",
    "\n",
    "model = nn.Sequential(\n",
    "    BasicBlockWithSkip(3, 16),\n",
    "    nn.MaxPool2d(2, 2),\n",
    "\n",
    "    BasicBlockWithSkip(16, 64),\n",
    "    nn.MaxPool2d(2, 2),\n",
    "\n",
    "    BasicBlockWithSkip(64, 128),\n",
    "    nn.MaxPool2d(2, 2),\n",
    "\n",
    "    nn.Flatten(),\n",
    "    nn.Linear(8448, 500),\n",
    "    nn.ReLU(),\n",
    "    nn.Dropout(p=0.2),\n",
    "    nn.Linear(500, 20),\n",
    "    #nn.Softmax(dim=1)\n",
    ")\n",
    "\n",
    "#model = nn.Sequential(\n",
    "#  nn.Flatten(),\n",
    "#  nn.Linear(np.prod(image_shape), 5000),\n",
    "#  nn.ReLU(),\n",
    "#  nn.Dropout(p=0.2),\n",
    "#  nn.Linear(5000, 2500),\n",
    "#  nn.ReLU(),\n",
    "#  nn.Dropout(p=0.2),\n",
    "#  nn.Linear(2500, 20),\n",
    "#  nn.Softmax(dim=1)\n",
    "#)\n",
    "\n",
    "# выводим summary модели\n",
    "summary(model, [1] + list(image_shape))"
   ]
  },
  {
   "cell_type": "code",
   "execution_count": 18,
   "metadata": {},
   "outputs": [],
   "source": [
    "from torch.utils.data import random_split\n",
    "\n",
    "# объявляем оптимайзер и лосс\n",
    "optimizer = torch.optim.SGD(model.parameters(), lr=1e-3, momentum=.9)\n",
    "criterion = nn.CrossEntropyLoss()\n",
    "\n",
    "# гиперпараметр модели\n",
    "BATCH_SIZE = 10\n",
    "\n",
    "# делим на трейн и валидацию\n",
    "train_set, valid_set = random_split(dataset_train, [0.9, 0.1])\n",
    "\n",
    "# создаём лоадеры для теста и валидации\n",
    "train_loader = DataLoader(train_set, batch_size=BATCH_SIZE)\n",
    "valid_loader = DataLoader(valid_set, batch_size=BATCH_SIZE)"
   ]
  },
  {
   "cell_type": "code",
   "execution_count": 19,
   "metadata": {},
   "outputs": [],
   "source": [
    "# используем pytorch ignite вместо бойлерплейта в ванильном торче\n",
    "from ignite.engine import create_supervised_trainer, create_supervised_evaluator\n",
    "from ignite.metrics import Accuracy, Loss, Fbeta, Precision, Recall\n",
    "\n",
    "trainer = create_supervised_trainer(model, optimizer, criterion, device)\n",
    "\n",
    "precision = Precision(average=False)\n",
    "recall = Recall(average=False)\n",
    "\n",
    "metrics = {\n",
    "    \"accuracy\": Accuracy(),\n",
    "    \"loss\": Loss(criterion),\n",
    "    \"f1\": Fbeta(beta=1.0, average=True, precision=precision, recall=recall)\n",
    "}\n",
    "\n",
    "train_evaluator = create_supervised_evaluator(model, metrics, device)\n",
    "valid_evaluator = create_supervised_evaluator(model, metrics, device)"
   ]
  },
  {
   "cell_type": "code",
   "execution_count": 20,
   "metadata": {},
   "outputs": [
    {
     "data": {
      "text/plain": [
       "<ignite.engine.events.RemovableEventHandle at 0x1889be820c0>"
      ]
     },
     "execution_count": 20,
     "metadata": {},
     "output_type": "execute_result"
    }
   ],
   "source": [
    "# логгинг, позаимствованный с семинара\n",
    "from ignite.engine import Events\n",
    "\n",
    "metrics_history = {\"Train\": [], \"Valid\": []}\n",
    "\n",
    "def log_iter_loss(engine):\n",
    "  print(f\"EPOCH {engine.state.epoch} - Iter {engine.state.iteration}: loss = {engine.state.output}\")\n",
    "\n",
    "trainer.add_event_handler(Events.ITERATION_COMPLETED(every=100), log_iter_loss)\n",
    "\n",
    "def compute_epoch_results(engine):\n",
    "  train_evaluator.run(train_loader),\n",
    "  valid_evaluator.run(valid_loader)\n",
    "\n",
    "trainer.add_event_handler(Events.EPOCH_COMPLETED, compute_epoch_results)\n",
    "\n",
    "def log_epoch_results(engine, label=\"\"):\n",
    "  print(f\"[{label}]: {', '.join([f'{k}={v}' for k, v in engine.state.metrics.items()])}\")\n",
    "  metrics_history[label].append(list(engine.state.metrics.values()))\n",
    "\n",
    "train_evaluator.add_event_handler(Events.EPOCH_COMPLETED, log_epoch_results, label=\"Train\")\n",
    "valid_evaluator.add_event_handler(Events.EPOCH_COMPLETED, log_epoch_results, label=\"Valid\")"
   ]
  },
  {
   "cell_type": "code",
   "execution_count": null,
   "metadata": {},
   "outputs": [],
   "source": []
  },
  {
   "cell_type": "code",
   "execution_count": null,
   "metadata": {},
   "outputs": [],
   "source": []
  },
  {
   "cell_type": "code",
   "execution_count": 21,
   "metadata": {},
   "outputs": [
    {
     "data": {
      "text/plain": [
       "<ignite.engine.events.RemovableEventHandle at 0x1889bf638f0>"
      ]
     },
     "execution_count": 21,
     "metadata": {},
     "output_type": "execute_result"
    }
   ],
   "source": [
    "# добавляем динамическое уменьшение learning rate\n",
    "from ignite.handlers.param_scheduler import ReduceLROnPlateauScheduler\n",
    "\n",
    "\n",
    "scheduler = ReduceLROnPlateauScheduler(\n",
    "    optimizer,\n",
    "    metric_name=\"loss\",\n",
    "    factor=0.5, # уменьшить лр вдвое\n",
    "    patience=2, # если последние 2 эпохи не было уменьшения лосса\n",
    "    threshold=0.05 # на 0.05\n",
    ")\n",
    "\n",
    "def log_lr():\n",
    "  for param_group in optimizer.param_groups:\n",
    "    print(f\"Learning rate: {param_group['lr']}\")\n",
    "\n",
    "valid_evaluator.add_event_handler(Events.COMPLETED, scheduler)\n",
    "valid_evaluator.add_event_handler(Events.COMPLETED, log_lr)"
   ]
  },
  {
   "cell_type": "code",
   "execution_count": 22,
   "metadata": {},
   "outputs": [
    {
     "data": {
      "text/plain": [
       "<ignite.engine.events.RemovableEventHandle at 0x1889be82090>"
      ]
     },
     "execution_count": 22,
     "metadata": {},
     "output_type": "execute_result"
    }
   ],
   "source": [
    "# добавляем раннюю остановку\n",
    "from ignite.handlers import EarlyStopping\n",
    "early_stopping = EarlyStopping(patience=10, score_function=lambda engine: -criterion(*engine.state.output), trainer=trainer)\n",
    "valid_evaluator.add_event_handler(Events.COMPLETED, early_stopping)\n",
    "train_evaluator.add_event_handler(Events.COMPLETED, early_stopping)"
   ]
  },
  {
   "cell_type": "code",
   "execution_count": 23,
   "metadata": {},
   "outputs": [
    {
     "data": {
      "text/plain": [
       "<ignite.engine.events.RemovableEventHandle at 0x1889bf4a630>"
      ]
     },
     "execution_count": 23,
     "metadata": {},
     "output_type": "execute_result"
    }
   ],
   "source": [
    "from ignite.handlers import Checkpoint, DiskSaver\n",
    "\n",
    "def create_checkpoint(trainer, model, optimizer):\n",
    "    to_save = {\n",
    "        \"model\": model,\n",
    "        \"optimizer\": optimizer,\n",
    "        \"trainer\": trainer,\n",
    "        \"early_stopping\": early_stopping,\n",
    "        \"scheduler\": scheduler\n",
    "    }\n",
    "    checkpoint_handler = Checkpoint(\n",
    "        to_save,\n",
    "        DiskSaver(\"submission-provitia-data\", create_dir=True, require_empty=False),\n",
    "        n_saved=5,\n",
    "    )\n",
    "    return checkpoint_handler\n",
    "\n",
    "# Создаем чекпойнт обработчик\n",
    "checkpoint_handler = create_checkpoint(trainer, model, optimizer)\n",
    "\n",
    "# Добавляем обработчик на событие завершения эпохи\n",
    "trainer.add_event_handler(Events.EPOCH_COMPLETED, checkpoint_handler)"
   ]
  },
  {
   "cell_type": "code",
   "execution_count": 24,
   "metadata": {},
   "outputs": [],
   "source": [
    "if os.path.exists(f\"{basefolder}submission-provitia-data/checkpoint_59042.pt\"):\n",
    "    checkpoint = torch.load(f\"{basefolder}submission-provitia-data/checkpoint_59042.pt\", weights_only=False)\n",
    "    Checkpoint.load_objects(checkpoint=checkpoint, to_load={\"model\": model, \"optimizer\": optimizer, \"trainer\": trainer,\n",
    "                                                            \"early_stopping\": early_stopping, \"scheduler\": scheduler})"
   ]
  },
  {
   "cell_type": "code",
   "execution_count": null,
   "metadata": {},
   "outputs": [
    {
     "ename": "ValueError",
     "evalue": "Argument max_epochs should be greater than or equal to the start epoch defined in the state: 1 vs 53. Please, set engine.state.max_epochs = None before calling engine.run() in order to restart the training from the beginning.",
     "output_type": "error",
     "traceback": [
      "\u001b[1;31m---------------------------------------------------------------------------\u001b[0m",
      "\u001b[1;31mValueError\u001b[0m                                Traceback (most recent call last)",
      "Cell \u001b[1;32mIn[25], line 2\u001b[0m\n\u001b[0;32m      1\u001b[0m MAX_EPOCHS \u001b[38;5;241m=\u001b[39m \u001b[38;5;241m1\u001b[39m\n\u001b[1;32m----> 2\u001b[0m trainer\u001b[38;5;241m.\u001b[39mrun(train_loader, max_epochs\u001b[38;5;241m=\u001b[39mMAX_EPOCHS)\n",
      "File \u001b[1;32md:\\anaconda3\\Lib\\site-packages\\ignite\\engine\\engine.py:839\u001b[0m, in \u001b[0;36mEngine.run\u001b[1;34m(self, data, max_epochs, epoch_length)\u001b[0m\n\u001b[0;32m    837\u001b[0m \u001b[38;5;28;01mif\u001b[39;00m max_epochs \u001b[38;5;129;01mis\u001b[39;00m \u001b[38;5;129;01mnot\u001b[39;00m \u001b[38;5;28;01mNone\u001b[39;00m:\n\u001b[0;32m    838\u001b[0m     \u001b[38;5;28;01mif\u001b[39;00m max_epochs \u001b[38;5;241m<\u001b[39m \u001b[38;5;28mself\u001b[39m\u001b[38;5;241m.\u001b[39mstate\u001b[38;5;241m.\u001b[39mepoch:\n\u001b[1;32m--> 839\u001b[0m         \u001b[38;5;28;01mraise\u001b[39;00m \u001b[38;5;167;01mValueError\u001b[39;00m(\n\u001b[0;32m    840\u001b[0m             \u001b[38;5;124m\"\u001b[39m\u001b[38;5;124mArgument max_epochs should be greater than or equal to the start \u001b[39m\u001b[38;5;124m\"\u001b[39m\n\u001b[0;32m    841\u001b[0m             \u001b[38;5;124mf\u001b[39m\u001b[38;5;124m\"\u001b[39m\u001b[38;5;124mepoch defined in the state: \u001b[39m\u001b[38;5;132;01m{\u001b[39;00mmax_epochs\u001b[38;5;132;01m}\u001b[39;00m\u001b[38;5;124m vs \u001b[39m\u001b[38;5;132;01m{\u001b[39;00m\u001b[38;5;28mself\u001b[39m\u001b[38;5;241m.\u001b[39mstate\u001b[38;5;241m.\u001b[39mepoch\u001b[38;5;132;01m}\u001b[39;00m\u001b[38;5;124m. \u001b[39m\u001b[38;5;124m\"\u001b[39m\n\u001b[0;32m    842\u001b[0m             \u001b[38;5;124m\"\u001b[39m\u001b[38;5;124mPlease, set engine.state.max_epochs = None \u001b[39m\u001b[38;5;124m\"\u001b[39m\n\u001b[0;32m    843\u001b[0m             \u001b[38;5;124m\"\u001b[39m\u001b[38;5;124mbefore calling engine.run() in order to restart the training from the beginning.\u001b[39m\u001b[38;5;124m\"\u001b[39m\n\u001b[0;32m    844\u001b[0m         )\n\u001b[0;32m    845\u001b[0m     \u001b[38;5;28mself\u001b[39m\u001b[38;5;241m.\u001b[39mstate\u001b[38;5;241m.\u001b[39mmax_epochs \u001b[38;5;241m=\u001b[39m max_epochs\n\u001b[0;32m    846\u001b[0m \u001b[38;5;28;01mif\u001b[39;00m epoch_length \u001b[38;5;129;01mis\u001b[39;00m \u001b[38;5;129;01mnot\u001b[39;00m \u001b[38;5;28;01mNone\u001b[39;00m:\n",
      "\u001b[1;31mValueError\u001b[0m: Argument max_epochs should be greater than or equal to the start epoch defined in the state: 1 vs 53. Please, set engine.state.max_epochs = None before calling engine.run() in order to restart the training from the beginning."
     ]
    }
   ],
   "source": [
    "MAX_EPOCHS = 1\n",
    "trainer.run(train_loader, max_epochs=MAX_EPOCHS)"
   ]
  },
  {
   "cell_type": "code",
   "execution_count": 26,
   "metadata": {},
   "outputs": [
    {
     "data": {
      "image/png": "[encoded data removed]",
      "text/plain": [
       "<Figure size 2000x400 with 3 Axes>"
      ]
     },
     "metadata": {},
     "output_type": "display_data"
    }
   ],
   "source": [
    "# изображаем изменения метрик в виде графика\n",
    "import matplotlib.pyplot as plt\n",
    "\n",
    "\n",
    "plt.figure(figsize=(20, 4))\n",
    "plt.subplot(1, 3, 1)\n",
    "plt.title(\"Loss\")\n",
    "losses = [[], []]\n",
    "for k in metrics_history[\"Train\"]:\n",
    "  losses[0].append(k[1])\n",
    "for k in metrics_history[\"Valid\"]:\n",
    "  losses[1].append(k[1])\n",
    "r = range(1, len(losses[0])+1)\n",
    "plt.plot(r, losses[0])\n",
    "plt.plot(r, losses[1])\n",
    "plt.legend([\"Train Loss\", \"Valid Loss\"])\n",
    "\n",
    "plt.subplot(1, 3, 2)\n",
    "plt.title(\"Accuracy\")\n",
    "accuracies = [[], []]\n",
    "for k in metrics_history[\"Train\"]:\n",
    "  accuracies[0].append(k[0])\n",
    "for k in metrics_history[\"Valid\"]:\n",
    "  accuracies[1].append(k[0])\n",
    "plt.plot(r, accuracies[0])\n",
    "plt.plot(r, accuracies[1])\n",
    "plt.legend([\"Train Acc\", \"Valid Acc\"])\n",
    "\n",
    "plt.subplot(1, 3, 3)\n",
    "plt.title(\"F1\")\n",
    "f1_scores = [[], []]\n",
    "for k in metrics_history[\"Train\"]:\n",
    "  f1_scores[0].append(k[2])\n",
    "for k in metrics_history[\"Valid\"]:\n",
    "  f1_scores[1].append(k[2])\n",
    "plt.plot(r, f1_scores[0])\n",
    "plt.plot(r, f1_scores[1])\n",
    "plt.legend([\"Train F1\", \"Valid F1\"])\n",
    "\n",
    "\n",
    "plt.show()"
   ]
  },
  {
   "cell_type": "code",
   "execution_count": null,
   "metadata": {},
   "outputs": [
    {
     "data": {
      "text/html": [
       "<div>\n",
       "<style scoped>\n",
       "    .dataframe tbody tr th:only-of-type {\n",
       "        vertical-align: middle;\n",
       "    }\n",
       "\n",
       "    .dataframe tbody tr th {\n",
       "        vertical-align: top;\n",
       "    }\n",
       "\n",
       "    .dataframe thead th {\n",
       "        text-align: right;\n",
       "    }\n",
       "</style>\n",
       "<table border=\"1\" class=\"dataframe\">\n",
       "  <thead>\n",
       "    <tr style=\"text-align: right;\">\n",
       "      <th></th>\n",
       "      <th>id</th>\n",
       "      <th>target_feature</th>\n",
       "    </tr>\n",
       "  </thead>\n",
       "  <tbody>\n",
       "    <tr>\n",
       "      <th>0</th>\n",
       "      <td>0</td>\n",
       "      <td>8</td>\n",
       "    </tr>\n",
       "    <tr>\n",
       "      <th>1</th>\n",
       "      <td>100</td>\n",
       "      <td>5</td>\n",
       "    </tr>\n",
       "    <tr>\n",
       "      <th>2</th>\n",
       "      <td>10000</td>\n",
       "      <td>9</td>\n",
       "    </tr>\n",
       "    <tr>\n",
       "      <th>3</th>\n",
       "      <td>10003</td>\n",
       "      <td>9</td>\n",
       "    </tr>\n",
       "    <tr>\n",
       "      <th>4</th>\n",
       "      <td>10004</td>\n",
       "      <td>0</td>\n",
       "    </tr>\n",
       "    <tr>\n",
       "      <th>5</th>\n",
       "      <td>10007</td>\n",
       "      <td>12</td>\n",
       "    </tr>\n",
       "    <tr>\n",
       "      <th>6</th>\n",
       "      <td>10008</td>\n",
       "      <td>5</td>\n",
       "    </tr>\n",
       "    <tr>\n",
       "      <th>7</th>\n",
       "      <td>10009</td>\n",
       "      <td>3</td>\n",
       "    </tr>\n",
       "    <tr>\n",
       "      <th>8</th>\n",
       "      <td>10015</td>\n",
       "      <td>3</td>\n",
       "    </tr>\n",
       "    <tr>\n",
       "      <th>9</th>\n",
       "      <td>10016</td>\n",
       "      <td>3</td>\n",
       "    </tr>\n",
       "  </tbody>\n",
       "</table>\n",
       "</div>"
      ],
      "text/plain": [
       "      id target_feature\n",
       "0      0              8\n",
       "1    100              5\n",
       "2  10000              9\n",
       "3  10003              9\n",
       "4  10004              0\n",
       "5  10007             12\n",
       "6  10008              5\n",
       "7  10009              3\n",
       "8  10015              3\n",
       "9  10016              3"
      ]
     },
     "execution_count": 85,
     "metadata": {},
     "output_type": "execute_result"
    }
   ],
   "source": [
    "# тест\n",
    "dataset_train = CustomDataset(f\"{basefolder}human_poses_data/img_test\", mode=\"test\", transform=transform)\n",
    "test_loader = DataLoader(dataset_train, batch_size=BATCH_SIZE)\n",
    "\n",
    "model.eval()\n",
    "cols = ['id', 'target_feature']\n",
    "answers = pd.DataFrame(columns=cols)\n",
    "\n",
    "for batch in test_loader:\n",
    "    pred = model(batch[0].to(device=device))\n",
    "    pred = torch.argmax(pred, dim=1).detach()\n",
    "    data = np.vstack([batch[1].numpy(), pred.cpu().numpy()]).T\n",
    "    df = pd.DataFrame(data=data, columns=cols)\n",
    "    if df['target_feature'].isna().sum() != 0:\n",
    "        print(data)\n",
    "        print(df)\n",
    "        raise ValueError\n",
    "    answers = pd.concat([answers, df])\n",
    "\n",
    "outfolder = \"\" # локально пустая строка\n",
    "answers.to_csv(f\"{outfolder}submission.csv\", index=False)\n",
    "answers"
   ]
  }
 ],
 "metadata": {
  "kernelspec": {
   "display_name": "base",
   "language": "python",
   "name": "python3"
  },
  "language_info": {
   "codemirror_mode": {
    "name": "ipython",
    "version": 3
   },
   "file_extension": ".py",
   "mimetype": "text/x-python",
   "name": "python",
   "nbconvert_exporter": "python",
   "pygments_lexer": "ipython3",
   "version": "3.12.7"
  }
 },
 "nbformat": 4,
 "nbformat_minor": 2
}
